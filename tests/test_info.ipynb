{
 "cells": [
  {
   "cell_type": "code",
   "execution_count": 1,
   "id": "e2034787-4a34-40c5-80f9-00cdb0817ec1",
   "metadata": {},
   "outputs": [
    {
     "name": "stdout",
     "output_type": "stream",
     "text": [
      "['orbits.py', 'animate.py', '__pycache__', 'keplib.cpython-310-x86_64-linux-gnu.so', 'conflib.cpython-310-x86_64-linux-gnu.so', 'phot.py', 'reparam.py', '__init__.py', 'hrchlib.cpython-310-x86_64-linux-gnu.so', 'photlib.cpython-310-x86_64-linux-gnu.so', 'systems.py', 'kep.py', '.ipynb_checkpoints', 'grad_reparam.py']\n"
     ]
    }
   ],
   "source": [
    "import gefera as gf\n",
    "import numpy as np\n",
    "from test_reparam import *\n",
    "from test_grad_reparam import *\n",
    "import celerite2 as ct\n",
    "from numpy.linalg import inv\n",
    "import matplotlib.pyplot as plt"
   ]
  },
  {
   "cell_type": "code",
   "execution_count": 2,
   "id": "0c20822f-1db8-4ef3-933d-c707975f4321",
   "metadata": {},
   "outputs": [],
   "source": [
    "p_transit = {\n",
    "'ap':215.0,     #semi-major axis\n",
    "'tp':-91.25,    #time of periastron passage\n",
    "'ep':0.1,       #eccentricity\n",
    "'pp':365,       #orbital period\n",
    "'wp':np.pi / 2,    #argument of periastron\n",
    "'ip':89.8 * np.pi / 180,   #inclination\n",
    "'am':2,\n",
    "'tm': -4.2,\n",
    "'em' : 0.1,\n",
    "'pm' : 8,\n",
    "'om' :90 * np.pi / 180,    #longitude of asending node (in radians)\n",
    "'wm' : -88 * np.pi / 180,\n",
    "'im' : 90.0 * np.pi / 180,\n",
    "'mm' : 0.01,    #moon/planet mass ratio\n",
    "'rp' : 0.1,\n",
    "'rm' : 0.05,\n",
    "'u1' : 0.5,\n",
    "'u2' : 0.3\n",
    "}\n"
   ]
  },
  {
   "cell_type": "code",
   "execution_count": 3,
   "id": "edd89f0c-ba01-44bf-81b5-c47964158e57",
   "metadata": {},
   "outputs": [],
   "source": [
    "ap,tp,ep,pp,wp,ip,am,tm,em,pm,om,wm,im,mm,rp,rm,u1,u2 = p_transit.values()"
   ]
  },
  {
   "cell_type": "code",
   "execution_count": 4,
   "id": "309728a4-13ff-492a-860b-7a871558a8e0",
   "metadata": {},
   "outputs": [],
   "source": [
    "p_noise = {\n",
    "    'rho':1,\n",
    "    'Q':1/np.sqrt(2),\n",
    "    'sigma':1,\n",
    "    'diag':1e-3\n",
    "}\n"
   ]
  },
  {
   "cell_type": "code",
   "execution_count": 5,
   "id": "3e947f97-f7c1-491c-b1d6-1ddc8f1c5975",
   "metadata": {},
   "outputs": [],
   "source": [
    "#calculate new params from old params\n",
    "mydict = {\n",
    "    'T':def_T(ep,pp,wp,ap,ip),\n",
    "    't0':t0(p_transit['ep'],p_transit['wp'],p_transit['pp'],p_transit['tp']),\n",
    "    'b1':b(p_transit['ap'],p_transit['ip'],p_transit['ep'],p_transit['wp']),\n",
    "    'r1':p_transit['rp'],\n",
    "    'phi':phi(p_transit['tm'],p_transit['pm']),\n",
    "    'm2':0,#p_transit['mm'],\n",
    "    'r2':0,#p_transit['rm'],\n",
    "    'a2':p_transit['am'],\n",
    "    'b2':b(p_transit['am'],p_transit['im'],p_transit['em'],p_transit['wm']),\n",
    "    'P1':p_transit['pp'],\n",
    "    'P2':p_transit['pm'],\n",
    "    'e1cosw1':p_transit['ep']*np.cos(p_transit['wp']),\n",
    "    'e2cosw2':p_transit['em']*np.cos(p_transit['wm']),\n",
    "    'e1sinw1':p_transit['ep']*np.sin(p_transit['wp']),\n",
    "    'e2sinw2':p_transit['em']*np.sin(p_transit['wm']),\n",
    "    'o2':p_transit['om'],\n",
    "    'u1':p_transit['u1'],\n",
    "    'u2':p_transit['u2']\n",
    "\n",
    "}"
   ]
  },
  {
   "cell_type": "code",
   "execution_count": 6,
   "id": "59972d49-5a1b-42e6-b618-28934635d99b",
   "metadata": {},
   "outputs": [
    {
     "data": {
      "text/plain": [
       "{'T': 0.36044957062244065,\n",
       " 't0': 91.25000000000003,\n",
       " 'b1': 0.6754410488458479,\n",
       " 'r1': 0.1,\n",
       " 'phi': -3.2986722862692828,\n",
       " 'm2': 0,\n",
       " 'r2': 0,\n",
       " 'a2': 2,\n",
       " 'b2': 1.347020304798265e-16,\n",
       " 'P1': 365,\n",
       " 'P2': 8,\n",
       " 'e1cosw1': 6.123233995736766e-18,\n",
       " 'e2cosw2': 0.003489949670250108,\n",
       " 'e1sinw1': 0.1,\n",
       " 'e2sinw2': -0.09993908270190958,\n",
       " 'o2': 1.5707963267948966,\n",
       " 'u1': 0.5,\n",
       " 'u2': 0.3}"
      ]
     },
     "execution_count": 6,
     "metadata": {},
     "output_type": "execute_result"
    }
   ],
   "source": [
    "mydict"
   ]
  },
  {
   "cell_type": "code",
   "execution_count": 92,
   "id": "3aaa78c5-d8d3-454a-9b07-e17c89f0fd46",
   "metadata": {},
   "outputs": [],
   "source": [
    "def covMatrix(tdict,ndict,**ind_var):\n",
    "    '''\n",
    "    Args:\n",
    "        tdict: dictionary of transit params\n",
    "        ndict: dictionary of noise model params\n",
    "        ind_var: one item dictionary of a key matching a key in either prior dict and an array of values to take\n",
    "    Returns:\n",
    "        3d matrix of covariance matrices\n",
    "    '''\n",
    "    param = set(tdict.keys()).intersection(set(ind_var.keys())) #finds if the ind_var is a transit parameter\n",
    "    key, values = list(ind_var.items())[0]\n",
    "    if param != {} and len(param) == 1:\n",
    "        #tdict[str(key)]=values\n",
    "        update = 0 #used later in the for loop to determine which param should equal val\n",
    "    elif param == set():\n",
    "        param = set(tdict.keys()).intersection(set(ind_var.keys()))\n",
    "        update = 1\n",
    "    else:\n",
    "        return 'Independent variable must be either in the transit or noise models' #if the ind_var is in neither transit nor noise dictionary, return None\n",
    "    \n",
    "    \n",
    "    matrices_array = np.zeros((len(values),6,6))\n",
    "    \n",
    "    #for each value of the independent variable, create a planet-moon system, instantiate a noise model, and calculate the cov matrix\n",
    "    for k,val in enumerate(values):\n",
    "        if update == 0:\n",
    "            tdict[key] = val\n",
    "            \n",
    "        elif update == 1:\n",
    "            ndict[key] = val\n",
    "            \n",
    "        t=np.linspace(90,93,1000)\n",
    "\n",
    "        po = gf.orbits.PrimaryOrbit(tdict['T'],tdict['t0'],tdict['e1sinw1'],tdict['e1cosw1'],tdict['P1'],tdict['b1'])\n",
    "        mo = gf.orbits.SatelliteOrbit(tdict['a2'],tdict['phi'],tdict['e2sinw2'],tdict['e2cosw2'],tdict['o2'],tdict['P2'],tdict['b2'],tdict['m2'])\n",
    "        sys = gf.systems.HierarchicalSystem(po, mo)\n",
    "        flux, grad = sys.lightcurve(t, tdict['u1'], tdict['u2'], tdict['r1'], tdict['r2'], grad=True)\n",
    "        #instantiate noise model\n",
    "        #kernel = ct.terms.SHOTerm(rho=ndict['rho'], Q=ndict['Q'], sigma=ndict['sigma'])    \n",
    "        #gp = ct.GaussianProcess(kernel)\n",
    "        \n",
    "        \n",
    "        #calculate and assign entries in info_matrix\n",
    "        \n",
    "        #delete all grads related to moon because we are testing with no moon first\n",
    "        del grad['m2']\n",
    "        del grad['r2']\n",
    "        del grad['a2']\n",
    "        del grad['phi']\n",
    "        del grad['e2sinw2']\n",
    "        del grad['e2cosw2']\n",
    "        del grad['o2']\n",
    "        del grad['P2']\n",
    "        del grad['b2']\n",
    "        \n",
    "        #take out parameters of the planet\n",
    "        del grad['T']\n",
    "        del grad['b1']\n",
    "        del grad['P1']\n",
    "        \n",
    "        info_matrix = np.zeros((len(grad.keys()),len(grad.keys())))\n",
    "        \n",
    "        #calculate transpose\n",
    "        for i,key1 in enumerate(grad):\n",
    "            np_arr = np.array(grad[key1])\n",
    "            transpose_arr = np_arr.transpose()\n",
    "            \n",
    "            #calculate each entry of the info matrix\n",
    "            for j,key2 in enumerate(grad):\n",
    "                grad_l = np.array(grad[key2])\n",
    "                #gp.compute(t,diag=ndict['diag'])\n",
    "                entry_ij = np.matmul(transpose_arr,grad_l/ndict['diag'])\n",
    "                info_matrix[i][j] = entry_ij\n",
    "        \n",
    "        #invert info matrix to get cov matrix\n",
    "        \n",
    "        cov_matrix = inv(info_matrix)\n",
    "        #add cov_matrix to array of cov matrices\n",
    "        matrices_array[k]=cov_matrix\n",
    "        #matrices_array[k]=info_matrix\n",
    "        #print out list of values for each param\n",
    "        \n",
    "    #for n,k in enumerate(list(grad.keys())):\n",
    "        #print()\n",
    "        #print(k)\n",
    "        #for i in range(matrices_array.shape[0]):\n",
    "            #print(matrices_array[i][n])       \n",
    "    #return the array of covariance matrices\n",
    "    return matrices_array,values"
   ]
  },
  {
   "cell_type": "code",
   "execution_count": 132,
   "id": "3082209e-bf48-4485-ad86-5b2696107831",
   "metadata": {},
   "outputs": [],
   "source": [
    "def newCov(tdict,ndict,**ind_var):\n",
    "    '''\n",
    "    Args:\n",
    "        tdict: dictionary of transit params\n",
    "        ndict: dictionary of noise model params\n",
    "        ind_var: one item dictionary of a key matching a key in either prior dict and an array of values to take\n",
    "    Returns:\n",
    "        3d matrix of covariance matrices\n",
    "    '''\n",
    "    param = set(tdict.keys()).intersection(set(ind_var.keys()))  # Finds if the ind_var is a transit parameter\n",
    "    key, values = list(ind_var.items())[0]\n",
    "    if bool(param) and len(param) == 1:\n",
    "        update = 0  # Used later in the for loop to determine which param should equal val\n",
    "    elif not bool(param):\n",
    "        param = set(tdict.keys()).intersection(set(ind_var.keys()))\n",
    "        update = 1\n",
    "    else:\n",
    "        return 'Independent variable must be either in the transit or noise models'  # If the ind_var is in neither transit nor noise dictionary, return None\n",
    "\n",
    "    \n",
    "    \n",
    "    matrices_array = np.zeros((len(values),6,6))\n",
    "    \n",
    "    #for each value of the independent variable, create a planet-moon system, instantiate a noise model, and calculate the cov matrix\n",
    "    for k,val in enumerate(values):\n",
    "        if update == 0:\n",
    "            tdict[key] = val\n",
    "            \n",
    "        elif update == 1:\n",
    "            ndict[key] = val\n",
    "            \n",
    "        t=np.linspace(90,93,1000)\n",
    "\n",
    "        po = gf.orbits.PrimaryOrbit(tdict['T'],tdict['t0'],tdict['e1sinw1'],tdict['e1cosw1'],tdict['P1'],tdict['b1'])\n",
    "        mo = gf.orbits.SatelliteOrbit(tdict['a2'],tdict['phi'],tdict['e2sinw2'],tdict['e2cosw2'],tdict['o2'],tdict['P2'],tdict['b2'],tdict['m2'])\n",
    "        sys = gf.systems.HierarchicalSystem(po, mo)\n",
    "        flux, grad = sys.lightcurve(t, tdict['u1'], tdict['u2'], tdict['r1'], tdict['r2'], grad=True)\n",
    "        #instantiate noise model\n",
    "        #kernel = ct.terms.SHOTerm(rho=ndict['rho'], Q=ndict['Q'], sigma=ndict['sigma'])    \n",
    "        #gp = ct.GaussianProcess(kernel)\n",
    "        \n",
    "        \n",
    "        #calculate and assign entries in info_matrix\n",
    "        \n",
    "        #delete all grads related to moon because we are testing with no moon first\n",
    "        del grad['m2']\n",
    "        del grad['r2']\n",
    "        del grad['a2']\n",
    "        del grad['phi']\n",
    "        del grad['e2sinw2']\n",
    "        del grad['e2cosw2']\n",
    "        del grad['o2']\n",
    "        del grad['P2']\n",
    "        del grad['b2']\n",
    "        \n",
    "        #take out parameters of the planet\n",
    "        del grad['T']\n",
    "        del grad['b1']\n",
    "        del grad['P1']\n",
    "        \n",
    "        \n",
    "        A = np.array(list(grad.values())).T\n",
    "        cov_matrix = np.linalg.inv(A.T @ A)\n",
    "        \n",
    "        #invert info matrix to get cov matrix\n",
    "        \n",
    "        \n",
    "        #add cov_matrix to array of cov matrices\n",
    "        matrices_array[k]=cov_matrix\n",
    "        #matrices_array[k]=info_matrix\n",
    "        #print out list of values for each param\n",
    "        \n",
    "    #for n,k in enumerate(list(grad.keys())):\n",
    "        #print()\n",
    "        #print(k)\n",
    "        #for i in range(matrices_array.shape[0]):\n",
    "            #print(matrices_array[i][n])       \n",
    "    #return the array of covariance matrices\n",
    "    return matrices_array,values"
   ]
  },
  {
   "cell_type": "code",
   "execution_count": 123,
   "id": "84fd9c24-96f1-4413-974e-0e25d459502f",
   "metadata": {},
   "outputs": [
    {
     "data": {
      "text/plain": [
       "'T'"
      ]
     },
     "execution_count": 123,
     "metadata": {},
     "output_type": "execute_result"
    }
   ],
   "source": [
    "list(mydict.keys())[0]"
   ]
  },
  {
   "cell_type": "code",
   "execution_count": 133,
   "id": "04fbbbd9-bdec-42e3-813a-86409e1c648e",
   "metadata": {
    "tags": []
   },
   "outputs": [],
   "source": [
    "newCov(mydict,p_noise,T=np.linspace(0.3,0.6,10));"
   ]
  },
  {
   "cell_type": "code",
   "execution_count": 87,
   "id": "afbb7244-115c-4900-96e0-32a4d9cc8732",
   "metadata": {},
   "outputs": [
    {
     "data": {
      "text/plain": [
       "dict_keys(['T', 't0', 'b1', 'r1', 'phi', 'm2', 'r2', 'a2', 'b2', 'P1', 'P2', 'e1cosw1', 'e2cosw2', 'e1sinw1', 'e2sinw2', 'o2', 'u1', 'u2'])"
      ]
     },
     "execution_count": 87,
     "metadata": {},
     "output_type": "execute_result"
    }
   ],
   "source": [
    "mydict.keys()"
   ]
  },
  {
   "cell_type": "code",
   "execution_count": 48,
   "id": "1bac075f-8b2d-4ee1-a347-231ebbd80ed1",
   "metadata": {},
   "outputs": [],
   "source": [
    "def plotCov(matrix,x_vals,*args):\n",
    "    \n",
    "    poss_keys = ['T', 't0', 'b1', 'r1', 'phi', 'm2', 'r2', 'a2', 'b2', 'P1', 'P2', 'e1cosw1', 'e2cosw2', 'e1sinw1', 'e2sinw2', 'o2', 'u1', 'u2']\n",
    "    search_key1 = args[0] #there should only be two search keys\n",
    "    search_key2 = args[1]\n",
    "    \n",
    "    key_idx1 = poss_keys.index(search_key1)\n",
    "    key_idx2 = poss_keys.index(search_key2)\n",
    "    y_vals = []\n",
    "    for i in range(matrix.shape[0]):\n",
    "        y_vals.append(matrix[i][key_idx1][key_idx2])\n",
    "    plt.plot(x_vals,y_vals,'.')\n",
    "    return None"
   ]
  },
  {
   "cell_type": "code",
   "execution_count": 125,
   "id": "49851b54-28ac-417a-91e1-5e4f7c5a1733",
   "metadata": {},
   "outputs": [],
   "source": [
    "matrix,x_vals = covMatrix(mydict,p_noise,T=np.linspace(1.5,1.6,100))"
   ]
  },
  {
   "cell_type": "code",
   "execution_count": 126,
   "id": "1e9dbf86-78f9-4451-9bd8-8d0b8bbe436f",
   "metadata": {},
   "outputs": [
    {
     "data": {
      "text/plain": [
       "Text(0, 0.5, 'r1 unc.')"
      ]
     },
     "execution_count": 126,
     "metadata": {},
     "output_type": "execute_result"
    },
    {
     "data": {
      "image/png": "[encoded data removed]",
      "text/plain": [
       "<Figure size 640x480 with 1 Axes>"
      ]
     },
     "metadata": {},
     "output_type": "display_data"
    }
   ],
   "source": [
    "plotCov(matrix,x_vals,'r1','r1')\n",
    "plt.xlabel('T')\n",
    "plt.ylabel('r1 unc.')"
   ]
  },
  {
   "cell_type": "code",
   "execution_count": 134,
   "id": "54546cf9-f78d-4d11-8722-a2cdf8195758",
   "metadata": {},
   "outputs": [],
   "source": [
    "matrix,x_vals = newCov(mydict,p_noise,T=np.linspace(1.5,1.6,100))"
   ]
  },
  {
   "cell_type": "code",
   "execution_count": 135,
   "id": "f40aa6a2-86a2-4ff2-a957-f746ab07fc53",
   "metadata": {},
   "outputs": [
    {
     "data": {
      "text/plain": [
       "Text(0, 0.5, 'r1 unc.')"
      ]
     },
     "execution_count": 135,
     "metadata": {},
     "output_type": "execute_result"
    },
    {
     "data": {
      "image/png": "[encoded data removed]",
      "text/plain": [
       "<Figure size 640x480 with 1 Axes>"
      ]
     },
     "metadata": {},
     "output_type": "display_data"
    }
   ],
   "source": [
    "plotCov(matrix,x_vals,'r1','r1')\n",
    "plt.xlabel('T')\n",
    "plt.ylabel('r1 unc.')"
   ]
  },
  {
   "cell_type": "code",
   "execution_count": null,
   "id": "69152a50-d7bb-4540-ba8e-c522ceb76d28",
   "metadata": {},
   "outputs": [],
   "source": []
  }
 ],
 "metadata": {
  "kernelspec": {
   "display_name": "Python 3 (ipykernel)",
   "language": "python",
   "name": "python3"
  },
  "language_info": {
   "codemirror_mode": {
    "name": "ipython",
    "version": 3
   },
   "file_extension": ".py",
   "mimetype": "text/x-python",
   "name": "python",
   "nbconvert_exporter": "python",
   "pygments_lexer": "ipython3",
   "version": "3.10.6"
  }
 },
 "nbformat": 4,
 "nbformat_minor": 5
}
