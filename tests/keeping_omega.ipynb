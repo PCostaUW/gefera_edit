{
 "cells": [
  {
   "cell_type": "code",
   "execution_count": 1,
   "id": "356bc00a-e2bc-4272-801e-b55ba25564f7",
   "metadata": {},
   "outputs": [
    {
     "name": "stdout",
     "output_type": "stream",
     "text": [
      "['orbits.py', 'animate.py', '__pycache__', 'keplib.cpython-310-x86_64-linux-gnu.so', 'conflib.cpython-310-x86_64-linux-gnu.so', 'phot.py', 'reparam.py', '__init__.py', 'hrchlib.cpython-310-x86_64-linux-gnu.so', 'photlib.cpython-310-x86_64-linux-gnu.so', 'systems.py', 'kep.py', '.ipynb_checkpoints', 'grad_reparam.py']\n"
     ]
    }
   ],
   "source": [
    "import gefera as gf\n",
    "from test_grad_reparam import *\n",
    "from test_reparam import *\n",
    "import matplotlib.pyplot as plt\n",
    "import numpy as np\n"
   ]
  },
  {
   "cell_type": "code",
   "execution_count": 2,
   "id": "6f0988a9-37e1-4887-8b60-e26d3f69d1b8",
   "metadata": {},
   "outputs": [],
   "source": [
    "old = {\n",
    "'ap':215.0,     #semi-major axis\n",
    "'tp':-91.25,    #time of periastron passage\n",
    "'ep':0,       #eccentricity\n",
    "'pp':365,       #orbital period\n",
    "'wp':0.1*np.pi / 180,    #argument of periastron\n",
    "'ip':89.8 * np.pi / 180,   #inclination\n",
    "'am':2,\n",
    "'tm': -4.2,\n",
    "'em' : 0,\n",
    "'pm' : 8,\n",
    "'om' :90 * np.pi / 180,    #longitude of asending node (in radians)\n",
    "'wm' : -90 * np.pi / 180,\n",
    "'im' : 90.0 * np.pi / 180,\n",
    "'mm' : 0.01,    #moon/planet mass ratio\n",
    "'rp' : 0.1,\n",
    "'rm' : 0.05,\n",
    "'u1' : 0.5,\n",
    "'u2' : 0.3\n",
    "}\n"
   ]
  },
  {
   "cell_type": "code",
   "execution_count": 3,
   "id": "dfd5bd41-8ac3-47d6-abda-2307bf775156",
   "metadata": {},
   "outputs": [],
   "source": [
    "ap,tp,ep,pp,wp,ip,am,tm,em,pm,om,wm,im,mm,r1,r2,u1,u2 = old.values()"
   ]
  },
  {
   "cell_type": "code",
   "execution_count": 20,
   "id": "f1ec150a-17e9-42da-9afd-b83e5c24369d",
   "metadata": {},
   "outputs": [],
   "source": [
    "new = {\n",
    "    'T':def_T(ep,pp,wp,ap,ip),\n",
    "    't0':t0(ep,wp,pp,tp),\n",
    "    'b1':b(ap,ip,ep,wp),\n",
    "    'r1':r1,\n",
    "    'phi':phi(tm,pm),\n",
    "    'm2':mm,\n",
    "    'r2':r2,\n",
    "    'a2':am,\n",
    "    'b2':b(am,im,em,wm),\n",
    "    'P1':pp,\n",
    "    'P2':pm,\n",
    "    'e1cosw1':ep*np.cos(wp),\n",
    "    'e2cosw2':em*np.cos(wm),\n",
    "    'e1sinw1':ep*np.sin(wp),\n",
    "    'e2sinw2':em*np.sin(wm),\n",
    "    'o2':om,\n",
    "    'u1':u1,\n",
    "    'u2':u2\n",
    "\n",
    "}"
   ]
  },
  {
   "cell_type": "code",
   "execution_count": 21,
   "id": "2a4835c7-ba1f-47fa-a559-cd929bd8bed7",
   "metadata": {},
   "outputs": [],
   "source": [
    "T,my_t0,b1,r1,my_phi,m2,r2,a2,b2,p1,p2,e1cosw,e2cosw,e1sinw,e2sinw,o2,u1,u2 = new.values()"
   ]
  },
  {
   "cell_type": "code",
   "execution_count": 22,
   "id": "9c0d0261-d6c5-4a50-9972-ac9685143397",
   "metadata": {},
   "outputs": [],
   "source": [
    "po = gf.orbits.PrimaryOrbit(T,my_t0,e1sinw,e1cosw,p1,b1)\n",
    "mo = gf.orbits.SatelliteOrbit(a2,my_phi,e2sinw,e2cosw,o2,p2,b2,m2)\n",
    "sys = gf.systems.HierarchicalSystem(po, mo)\n",
    "t = np.linspace(-275,-272,10000)\n",
    "flux1, grad = sys.lightcurve(t, u1, u2, r1,r2, grad=True)"
   ]
  },
  {
   "cell_type": "code",
   "execution_count": 24,
   "id": "15d93b06-0640-436c-8012-036757d4648a",
   "metadata": {},
   "outputs": [
    {
     "data": {
      "text/plain": [
       "[<matplotlib.lines.Line2D at 0x7f738ff911e0>]"
      ]
     },
     "execution_count": 24,
     "metadata": {},
     "output_type": "execute_result"
    },
    {
     "data": {
      "image/png": "[encoded data removed]",
      "text/plain": [
       "<Figure size 640x480 with 1 Axes>"
      ]
     },
     "metadata": {},
     "output_type": "display_data"
    }
   ],
   "source": [
    "plt.plot(t,flux1)\n",
    "plt.plot(t2,flux)"
   ]
  },
  {
   "cell_type": "code",
   "execution_count": 9,
   "id": "6c3eacf7-e472-4115-b3c7-e8618a26acc5",
   "metadata": {},
   "outputs": [],
   "source": [
    "nold = {\n",
    "    'ap':a1(p1,b1,T,e1cosw,e1sinw),     #semi-major axis\n",
    "    'tp':t1(my_t0,p1,e1cosw,e1sinw),    #time of periastron passage\n",
    "    'ep':ecc(e1cosw,e1sinw),       #eccentricity\n",
    "    'pp':p1,       #orbital period\n",
    "    'wp':omega(e1cosw,e1sinw),    #argument of periastron\n",
    "    'ip':i1(b1,p1,T,e1cosw,e2cosw),   #inclination\n",
    "    'am':a2,\n",
    "    'tm': t2(my_phi,p2),\n",
    "    'em' : ecc(e2cosw,e2sinw),\n",
    "    'pm' : p2,\n",
    "    'om' :o2,    #longitude of asending node (in radians)\n",
    "    'wm' : omega(e2cosw,e2sinw),\n",
    "    'im' : i2(b2,a2,e2cosw,e2sinw),\n",
    "    'mm' : m2,    #moon/planet mass ratio\n",
    "    'rp' : r1,\n",
    "    'rm' : r2,\n",
    "    'u1' : u1,\n",
    "    'u2' : u2\n",
    "}\n",
    "ap,tp,ep,pp,wp,ip,am,tm,em,pm,om,wm,im,mm,r1,r2,u1,u2 = nold.values()"
   ]
  },
  {
   "cell_type": "code",
   "execution_count": 10,
   "id": "2c92ae22-3978-449b-a35f-45b50f94966a",
   "metadata": {},
   "outputs": [],
   "source": [
    "nnew = {\n",
    "    'T':def_T(ep,pp,wp,ap,ip),\n",
    "    't0':t0(ep,wp,pp,tp),\n",
    "    'b1':b(ap,ip,ep,wp),\n",
    "    'r1':r1,\n",
    "    'phi':phi(tm,pm),\n",
    "    'm2':mm,\n",
    "    'r2':r2,\n",
    "    'a2':am,\n",
    "    'b2':b(am,im,em,wm),\n",
    "    'P1':pp,\n",
    "    'P2':pm,\n",
    "    'e1cosw1':ep*np.cos(wp),\n",
    "    'e2cosw2':em*np.cos(wm),\n",
    "    'e1sinw1':ep*np.sin(wp),\n",
    "    'e2sinw2':em*np.sin(wm),\n",
    "    'o2':om,\n",
    "    'u1':u1,\n",
    "    'u2':u2\n",
    "\n",
    "}\n",
    "T,my_t0,b1,r1,my_phi,m2,r2,a2,b2,p1,p2,e1cosw,e2cosw,e1sinw,e2sinw,o2,u1,u2 = nnew.values()"
   ]
  },
  {
   "cell_type": "code",
   "execution_count": 17,
   "id": "ff09727f-2a04-4742-952a-cbf337700f05",
   "metadata": {},
   "outputs": [],
   "source": [
    "po = gf.orbits.PrimaryOrbit(T,my_t0,e1sinw,e1cosw,p1,b1)\n",
    "mo = gf.orbits.SatelliteOrbit(a2,my_phi,e2sinw,e2cosw,o2,p2,b2,m2)\n",
    "sys = gf.systems.HierarchicalSystem(po, mo)\n",
    "t2 = np.linspace(-275,-272,10000)\n",
    "flux, grad = sys.lightcurve(t2, u1, u2, r1,r2, grad=True)"
   ]
  },
  {
   "cell_type": "code",
   "execution_count": 18,
   "id": "d78b6182-feb3-4447-8b30-ce4234da2f8c",
   "metadata": {},
   "outputs": [
    {
     "data": {
      "text/plain": [
       "-273.85138888888895"
      ]
     },
     "execution_count": 18,
     "metadata": {},
     "output_type": "execute_result"
    }
   ],
   "source": [
    "my_t0"
   ]
  },
  {
   "cell_type": "code",
   "execution_count": 19,
   "id": "87334b16-da6b-441c-8067-413d81a6d4fa",
   "metadata": {},
   "outputs": [
    {
     "data": {
      "text/plain": [
       "[<matplotlib.lines.Line2D at 0x7f73900947f0>]"
      ]
     },
     "execution_count": 19,
     "metadata": {},
     "output_type": "execute_result"
    },
    {
     "data": {
      "image/png": "[encoded data removed]",
      "text/plain": [
       "<Figure size 640x480 with 1 Axes>"
      ]
     },
     "metadata": {},
     "output_type": "display_data"
    }
   ],
   "source": [
    "plt.plot(t2,flux)"
   ]
  },
  {
   "cell_type": "code",
   "execution_count": 7,
   "id": "7a185094-aac3-4ff1-a895-d878539a92a8",
   "metadata": {},
   "outputs": [
    {
     "data": {
      "text/plain": [
       "(0.0017453292519943296, 0.0)"
      ]
     },
     "execution_count": 7,
     "metadata": {},
     "output_type": "execute_result"
    }
   ],
   "source": [
    "old['wp'],nold['wp']"
   ]
  },
  {
   "cell_type": "code",
   "execution_count": 8,
   "id": "9bc5cebb-d7b9-430a-a931-6115a5d4a7b6",
   "metadata": {},
   "outputs": [
    {
     "data": {
      "text/plain": [
       "(-1.5707963267948966, 0.0)"
      ]
     },
     "execution_count": 8,
     "metadata": {},
     "output_type": "execute_result"
    }
   ],
   "source": [
    "old['wm'],nold['wm']"
   ]
  },
  {
   "cell_type": "code",
   "execution_count": null,
   "id": "f27d252a-035a-42a3-bfab-767415c07e4c",
   "metadata": {},
   "outputs": [],
   "source": []
  }
 ],
 "metadata": {
  "kernelspec": {
   "display_name": "Python 3 (ipykernel)",
   "language": "python",
   "name": "python3"
  },
  "language_info": {
   "codemirror_mode": {
    "name": "ipython",
    "version": 3
   },
   "file_extension": ".py",
   "mimetype": "text/x-python",
   "name": "python",
   "nbconvert_exporter": "python",
   "pygments_lexer": "ipython3",
   "version": "3.10.6"
  }
 },
 "nbformat": 4,
 "nbformat_minor": 5
}
