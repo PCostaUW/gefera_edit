{
 "cells": [
  {
   "cell_type": "code",
   "execution_count": 11,
   "metadata": {},
   "outputs": [
    {
     "name": "stdout",
     "output_type": "stream",
     "text": [
      "True\n",
      "True\n",
      "True\n",
      "True\n",
      "True\n",
      "True\n",
      "True\n",
      "True\n",
      "True\n",
      "True\n",
      "True\n",
      "True\n",
      "True\n",
      "True\n",
      "True\n",
      "True\n"
     ]
    }
   ],
   "source": [
    "import pytest\n",
    "import numpy as np\n",
    "\n",
    "import utils as tu\n",
    "import gefera as gf\n",
    "\n",
    "flux = gf.phot.flux\n",
    "flux_ng = gf.phot.flux_ng\n",
    "\n",
    "q1, q2 = np.random.rand(2)\n",
    "u1 = 2 * np.sqrt(q1) * q2\n",
    "u2 = np.sqrt(q1) * (1 - 2 * q2)\n",
    "    \n",
    "rp, rm = 0.3, 0.2\n",
    "coords = [\n",
    "        [0.95, 1, 1.15, 0.75],\n",
    "        [0.95, 1, 0.7, 0.75],\n",
    "        [0.8, 0.8, 1.15, 0.75],\n",
    "        [0.4, 0.4, 0.4, 0.4],\n",
    "        [0.4, 0.4, 0.6, 0.2],\n",
    "        [0.4, 0.4, 0.65, 0.65],\n",
    "        [0.55, 0.55, 0.52, 0.52],\n",
    "        [0.6, 0.6, 0.4, 0.4],\n",
    "        [0.65, 0.65, 0.65, 0.65],\n",
    "        [0.6, 0.6, 0.75, 0.75],\n",
    "        [0.8, 0.8, 0.65, 0.65],\n",
    "        [0.52, 0.52, 0.7, 0.7],\n",
    "        [0.88, 0.88, 0.7, 0.7],\n",
    "        [0.85, 0.9, 1.05, 0.5],\n",
    "        [0.5, 0.55, 0.8, 0.3],\n",
    "        [0.6, 0.65, 0.9, 0.4]\n",
    "]\n",
    "for xp, yp, xm, ym in coords:\n",
    "    bp, bpm, theta = tu.change_coords(xp, yp, xm, ym)    \n",
    "    \n",
    "    analytic = flux(\n",
    "        u1, u2, rp, rm, \n",
    "        np.array([bp]), \n",
    "        np.array([bpm]), \n",
    "        np.array([np.cos(theta)]), \n",
    "        np.array([np.sin(theta)])\n",
    "    )[0][0]\n",
    "    \n",
    "    numerical = tu.flux_numerical(\n",
    "        u1, u2, rp, rm, bp, bpm, theta, 500000\n",
    "    )\n",
    "    \n",
    "    print(np.isclose(analytic, numerical, atol=1e-4))"
   ]
  },
  {
   "cell_type": "code",
   "execution_count": 6,
   "metadata": {},
   "outputs": [
    {
     "data": {
      "text/plain": [
       "True"
      ]
     },
     "execution_count": 6,
     "metadata": {},
     "output_type": "execute_result"
    }
   ],
   "source": [
    "np.isclose(analytic, numerical, atol=1e-5)"
   ]
  },
  {
   "cell_type": "code",
   "execution_count": 7,
   "metadata": {},
   "outputs": [
    {
     "data": {
      "text/plain": [
       "-0.08696253156442102"
      ]
     },
     "execution_count": 7,
     "metadata": {},
     "output_type": "execute_result"
    }
   ],
   "source": [
    "analytic"
   ]
  },
  {
   "cell_type": "code",
   "execution_count": 8,
   "metadata": {},
   "outputs": [
    {
     "data": {
      "text/plain": [
       "-0.0869637990780637"
      ]
     },
     "execution_count": 8,
     "metadata": {},
     "output_type": "execute_result"
    }
   ],
   "source": [
    "numerical "
   ]
  },
  {
   "cell_type": "code",
   "execution_count": null,
   "metadata": {},
   "outputs": [],
   "source": [
    "import matplotlib.pyplot as plt\n",
    "xp, yp, xm, ym = [0.52, 0.52, 0.7, 0.7]\n",
    "\n",
    "th = np.linspace(0, np.pi * 2)\n",
    "plt.plot(np.cos(th), np.sin(th))\n",
    "plt.plot(xp + rp * np.cos(th), yp + rp * np.sin(th))\n",
    "plt.plot(xm + rm * np.cos(th), ym + rm * np.sin(th))"
   ]
  },
  {
   "cell_type": "code",
   "execution_count": null,
   "metadata": {},
   "outputs": [],
   "source": []
  },
  {
   "cell_type": "code",
   "execution_count": null,
   "metadata": {},
   "outputs": [],
   "source": []
  }
 ],
 "metadata": {
  "kernelspec": {
   "display_name": "Python 3",
   "language": "python",
   "name": "python3"
  },
  "language_info": {
   "codemirror_mode": {
    "name": "ipython",
    "version": 3
   },
   "file_extension": ".py",
   "mimetype": "text/x-python",
   "name": "python",
   "nbconvert_exporter": "python",
   "pygments_lexer": "ipython3",
   "version": "3.8.6"
  }
 },
 "nbformat": 4,
 "nbformat_minor": 4
}
