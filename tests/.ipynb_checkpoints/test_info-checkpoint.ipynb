{
 "cells": [
  {
   "cell_type": "code",
   "execution_count": 40,
   "id": "e2034787-4a34-40c5-80f9-00cdb0817ec1",
   "metadata": {},
   "outputs": [],
   "source": [
    "import gefera as gf\n",
    "import numpy as np\n",
    "from reparam import *\n",
    "from grad_reparam import *\n",
    "import celerite2 as ct\n",
    "from numpy.linalg import inv\n",
    "import matplotlib.pyplot as plt"
   ]
  },
  {
   "cell_type": "code",
   "execution_count": 88,
   "id": "0c20822f-1db8-4ef3-933d-c707975f4321",
   "metadata": {},
   "outputs": [],
   "source": [
    "p_transit = {\n",
    "'ap':215.0,     #semi-major axis\n",
    "'tp':-91.25,    #time of periastron passage\n",
    "'ep':0.1,       #eccentricity\n",
    "'pp':365,       #orbital period\n",
    "'wp':np.pi / 2,    #argument of periastron\n",
    "'ip':89.8 * np.pi / 180,   #inclination\n",
    "'am':2,\n",
    "'tm': -4.2,\n",
    "'em' : 0.1,\n",
    "'pm' : 8,\n",
    "'om' :90 * np.pi / 180,    #longitude of asending node (in radians)\n",
    "'wm' : -88 * np.pi / 180,\n",
    "'im' : 90.0 * np.pi / 180,\n",
    "'mm' : 0.01,    #moon/planet mass ratio\n",
    "'rp' : 0.1,\n",
    "'rm' : 0.05,\n",
    "'u1' : 0.5,\n",
    "'u2' : 0.3\n",
    "}\n"
   ]
  },
  {
   "cell_type": "code",
   "execution_count": 89,
   "id": "edd89f0c-ba01-44bf-81b5-c47964158e57",
   "metadata": {},
   "outputs": [],
   "source": [
    "ap,tp,ep,pp,wp,ip,am,tm,em,pm,om,wm,im,mm,rp,rm,u1,u2 = p_transit.values()"
   ]
  },
  {
   "cell_type": "code",
   "execution_count": 78,
   "id": "309728a4-13ff-492a-860b-7a871558a8e0",
   "metadata": {},
   "outputs": [],
   "source": [
    "p_noise = {\n",
    "    'rho':1,\n",
    "    'Q':1/np.sqrt(2),\n",
    "    'sigma':1,\n",
    "    'diag':1e-7\n",
    "}\n"
   ]
  },
  {
   "cell_type": "code",
   "execution_count": 190,
   "id": "3e947f97-f7c1-491c-b1d6-1ddc8f1c5975",
   "metadata": {},
   "outputs": [],
   "source": [
    "#calculate new params from old params\n",
    "mydict = {\n",
    "    'T':def_T(ep,pp,wp,ap,ip),\n",
    "    't0':t0(p_transit['ep'],p_transit['wp'],p_transit['pp'],p_transit['tp']),\n",
    "    'b1':b(p_transit['ap'],p_transit['ip'],p_transit['ep'],p_transit['wp']),\n",
    "    'r1':p_transit['rp'],\n",
    "    'phi':phi(p_transit['tm'],p_transit['pm']),\n",
    "    'm2':0,\n",
    "    'r2':0,\n",
    "    'a2':p_transit['am'],\n",
    "    'b2':b(p_transit['am'],p_transit['im'],p_transit['em'],p_transit['wm']),\n",
    "    'P1':p_transit['pp'],\n",
    "    'P2':p_transit['pm'],\n",
    "    'e1cosw1':p_transit['ep']*np.cos(p_transit['wp']),\n",
    "    'e2cosw2':p_transit['em']*np.cos(p_transit['wm']),\n",
    "    'e1sinw1':p_transit['ep']*np.sin(p_transit['wp']),\n",
    "    'e2sinw2':p_transit['em']*np.sin(p_transit['wm']),\n",
    "    'o2':p_transit['om'],\n",
    "    'u1':p_transit['u1'],\n",
    "    'u2':p_transit['u2']\n",
    "\n",
    "}"
   ]
  },
  {
   "cell_type": "code",
   "execution_count": 191,
   "id": "d7d6e22c-4e7b-4c12-9cd4-886dfc371716",
   "metadata": {},
   "outputs": [
    {
     "data": {
      "text/plain": [
       "{'T': 0.36044957062244065,\n",
       " 't0': 91.25000000000003,\n",
       " 'b1': 0.6754410488458479,\n",
       " 'r1': 0.1,\n",
       " 'phi': -3.2986722862692828,\n",
       " 'm2': 0,\n",
       " 'r2': 0,\n",
       " 'a2': 2,\n",
       " 'b2': 1.347020304798265e-16,\n",
       " 'P1': 365,\n",
       " 'P2': 8,\n",
       " 'e1cosw1': 6.123233995736766e-18,\n",
       " 'e2cosw2': 0.003489949670250108,\n",
       " 'e1sinw1': 0.1,\n",
       " 'e2sinw2': -0.09993908270190958,\n",
       " 'o2': 1.5707963267948966,\n",
       " 'u1': 0.5,\n",
       " 'u2': 0.3}"
      ]
     },
     "execution_count": 191,
     "metadata": {},
     "output_type": "execute_result"
    }
   ],
   "source": [
    "mydict"
   ]
  },
  {
   "cell_type": "code",
   "execution_count": 114,
   "id": "b86920b7-af50-4fd8-b905-c0e7c173f30d",
   "metadata": {},
   "outputs": [],
   "source": [
    "tdict2 = {\n",
    "    'T':def_T(ep,pp,wp,ap,ip),\n",
    "    't0':t0(p_transit['ep'],p_transit['wp'],p_transit['pp'],p_transit['tp']),\n",
    "    'b1':b(p_transit['ap'],p_transit['ip'],p_transit['ep'],p_transit['wp']),\n",
    "    'r1':p_transit['rp'],\n",
    "    'phi':phi(p_transit['tm'],p_transit['pm']),\n",
    "    'm2':0,\n",
    "    'r2':0,\n",
    "    'a2':p_transit['am'],\n",
    "    'b2':b(p_transit['am'],p_transit['im'],p_transit['em'],p_transit['wm']),\n",
    "    'P1':pp,\n",
    "    'P2':p_transit['pm'],\n",
    "    'e1cosw1':p_transit['ep']*np.cos(p_transit['wp']),\n",
    "    'e2cosw2':p_transit['em']*np.cos(p_transit['wm']),\n",
    "    'e1sinw1':p_transit['ep']*np.sin(p_transit['wp']),\n",
    "    'e2sinw2':p_transit['em']*np.sin(p_transit['wm']),\n",
    "    'o2':p_transit['om'],\n",
    "    'u1':p_transit['u1'],\n",
    "    'u2':p_transit['u2']\n",
    "\n",
    "}"
   ]
  },
  {
   "cell_type": "code",
   "execution_count": 138,
   "id": "9427d5fa-c1bb-4527-9eae-f7dcd1bc32cd",
   "metadata": {},
   "outputs": [
    {
     "data": {
      "text/plain": [
       "[<matplotlib.lines.Line2D at 0x7ff2c0ac6890>]"
      ]
     },
     "execution_count": 138,
     "metadata": {},
     "output_type": "execute_result"
    },
    {
     "data": {
      "image/png": "[encoded data removed]",
      "text/plain": [
       "<Figure size 640x480 with 1 Axes>"
      ]
     },
     "metadata": {},
     "output_type": "display_data"
    }
   ],
   "source": [
    "po = gf.orbits.PrimaryOrbit(0.01,mydict['t0'],mydict['e1sinw1'],mydict['e1cosw1'],mydict['P1'],mydict['b1'])\n",
    "mo = gf.orbits.SatelliteOrbit(mydict['a2'],mydict['phi'],mydict['e2sinw2'],mydict['e2cosw2'],mydict['o2'],mydict['P2'],mydict['b2'],mydict['m2'])\n",
    "sys = gf.systems.HierarchicalSystem(po, mo)\n",
    "flux, grad = sys.lightcurve(t, mydict['u1'], mydict['u2'], mydict['r1'], mydict['r2'], grad=True)\n",
    "\n",
    "\n",
    "plt.plot(t,flux)\n"
   ]
  },
  {
   "cell_type": "code",
   "execution_count": 134,
   "id": "fca7d9c4-2313-49c1-880f-a2c6c51d0de7",
   "metadata": {},
   "outputs": [
    {
     "data": {
      "text/plain": [
       "2"
      ]
     },
     "execution_count": 134,
     "metadata": {},
     "output_type": "execute_result"
    }
   ],
   "source": [
    "new_params['a2']"
   ]
  },
  {
   "cell_type": "code",
   "execution_count": 200,
   "id": "3aaa78c5-d8d3-454a-9b07-e17c89f0fd46",
   "metadata": {},
   "outputs": [],
   "source": [
    "def covMatrix(tdict,ndict,**ind_var):\n",
    "    '''\n",
    "    Args:\n",
    "        tdict: dictionary of transit params\n",
    "        ndict: dictionary of noise model params\n",
    "        ind_var: one item dictionary of a key matching a key in either prior dict and an array of values to take\n",
    "    Returns:\n",
    "        3d matrix of covariance matrices\n",
    "    '''\n",
    "    param = set(tdict.keys()).intersection(set(ind_var.keys())) #finds if the ind_var is a transit parameter\n",
    "    key1, values = list(ind_var.items())[0]\n",
    "    if param != {} and len(param) == 1:\n",
    "        #tdict[str(key)]=values\n",
    "        update = 0 #used later in the for loop to determine which param should equal val\n",
    "    elif param == set():\n",
    "        param = set(tdict.keys()).intersection(set(ind_var.keys()))\n",
    "        update = 1\n",
    "    else:\n",
    "        return 'Independent variable must be either in the transit or noise models' #if the ind_var is in neither transit nor noise dictionary, return None\n",
    "    \n",
    "    \n",
    "    matrices_array = np.zeros((len(values),9,9))\n",
    "    \n",
    "    #for each value of the independent variable, create a planet-moon system, instantiate a noise model, and calculate the cov matrix\n",
    "    for k,val in enumerate(values):\n",
    "        if update == 0:\n",
    "            tdict[key1] = val\n",
    "            \n",
    "        elif update == 1:\n",
    "            ndict[key1] = val\n",
    "            \n",
    "        t=np.linspace(90,92,1000)\n",
    "\n",
    "        po = gf.orbits.PrimaryOrbit(tdict['T'],tdict['t0'],tdict['e1sinw1'],tdict['e1cosw1'],tdict['P1'],tdict['b1'])\n",
    "        mo = gf.orbits.SatelliteOrbit(tdict['a2'],tdict['phi'],tdict['e2sinw2'],tdict['e2cosw2'],tdict['o2'],tdict['P2'],tdict['b2'],tdict['m2'])\n",
    "        sys = gf.systems.HierarchicalSystem(po, mo)\n",
    "        flux, grad = sys.lightcurve(t, tdict['u1'], tdict['u2'], tdict['r1'], tdict['r2'], grad=True)\n",
    "    \n",
    "        #instantiate noise model\n",
    "        kernel = ct.terms.SHOTerm(rho=ndict['rho'], Q=ndict['Q'], sigma=ndict['sigma'])    \n",
    "        gp = ct.GaussianProcess(kernel)\n",
    "        \n",
    "        \n",
    "        #calculate and assign entries in info_matrix\n",
    "        \n",
    "        del grad['m2']\n",
    "        del grad['r2']\n",
    "        del grad['a2']\n",
    "        del grad['b2']\n",
    "        del grad['P2']\n",
    "        del grad['e2sinw2']\n",
    "        del grad['e2cosw2']\n",
    "        del grad['o2']\n",
    "        del grad['phi']\n",
    "        info_matrix = np.zeros((len(grad.keys()),len(grad.keys())))\n",
    "        \n",
    "        #calculate transpose\n",
    "        for i,key in enumerate(grad):\n",
    "            np_arr = np.array(grad[key])\n",
    "            transpose_arr = np_arr.transpose()\n",
    "            \n",
    "            #calculate each entry of the info matrix\n",
    "            for j,key2 in enumerate(grad):\n",
    "                grad_l = np.array(grad[key2])\n",
    "                #gp.compute(t,diag=ndict['diag'])\n",
    "                entry_ij = np.matmul(transpose_arr,grad_l/ndict['diag'])\n",
    "                info_matrix[i][j] = entry_ij\n",
    "        \n",
    "        #invert info matrix to get cov matrix\n",
    "        cov_matrix = inv(info_matrix)\n",
    "        \n",
    "        #add cov_matrix to array of cov matrices\n",
    "        matrices_array[k]=cov_matrix\n",
    "\n",
    "    #return the array of covariance matrices\n",
    "    return matrices_array,values"
   ]
  },
  {
   "cell_type": "code",
   "execution_count": 201,
   "id": "04fbbbd9-bdec-42e3-813a-86409e1c648e",
   "metadata": {},
   "outputs": [
    {
     "data": {
      "text/plain": [
       "(array([[[ 1.18622279e+06,  3.28935706e+06,  1.00280515e+07, ...,\n",
       "          -7.34910952e+06,  3.74245477e+02, -4.97952090e+02],\n",
       "         [ 3.77502994e+06, -1.07342912e+09,  6.99757614e+06, ...,\n",
       "          -5.12820993e+06,  2.61118791e+02, -3.47434712e+02],\n",
       "         [ 1.00392187e+07,  2.92193768e+06,  8.42964793e+07, ...,\n",
       "          -6.17771117e+07,  3.14603432e+03, -4.18594353e+03],\n",
       "         ...,\n",
       "         [-7.35729341e+06, -2.14135717e+06, -6.17771117e+07, ...,\n",
       "           4.52736764e+07, -2.30558746e+03,  3.06768998e+03],\n",
       "         [ 3.74661103e+02,  1.08987114e+02,  3.14602417e+03, ...,\n",
       "          -2.30558002e+03,  9.52782407e-01, -1.17731110e+00],\n",
       "         [-4.98505223e+02, -1.45019247e+02, -4.18593112e+03, ...,\n",
       "           3.06768089e+03, -1.17731114e+00,  1.45998289e+00]],\n",
       " \n",
       "        [[-1.67116223e+07,  4.62898567e+09, -2.83623942e+07, ...,\n",
       "           2.07855292e+07, -1.14534164e+03,  1.52395941e+03],\n",
       "         [ 4.82913260e+09, -1.26131964e+12,  9.94996926e+09, ...,\n",
       "          -7.29188711e+09,  4.01807027e+05, -5.34632761e+05],\n",
       "         [-2.37586598e+07,  8.33513758e+09,  3.77403050e-02, ...,\n",
       "          -2.76376502e-02,  1.74699935e-01, -2.13605782e-01],\n",
       "         ...,\n",
       "         [ 1.74116583e+07, -6.10844925e+09, -2.79017398e-02, ...,\n",
       "           2.04606712e-02, -1.27942535e-01,  1.56136442e-01],\n",
       "         [-9.59431446e+02,  3.36596065e+05,  1.73301717e-01, ...,\n",
       "          -1.26917832e-01,  8.02691503e-01, -9.81131413e-01],\n",
       "         [ 1.27659471e+03, -4.47865469e+05, -2.07476757e-01, ...,\n",
       "           1.51644740e-01, -9.81131240e-01,  1.20310720e+00]],\n",
       " \n",
       "        [[ 3.45212797e+08, -1.03095127e+11,  3.10069060e+08, ...,\n",
       "          -2.27235754e+08,  1.35062621e+04, -1.79714890e+04],\n",
       "         [-1.19089014e+11,  3.56629783e+13, -1.04713509e+11, ...,\n",
       "           7.67398502e+10, -4.56117888e+06,  6.06912588e+06],\n",
       "         [-5.76297394e+07,  1.94625994e+10, -2.79808051e-01, ...,\n",
       "           2.05827357e-01,  6.60643930e-01, -8.20884141e-01],\n",
       "         ...,\n",
       "         [ 4.22342600e+07, -1.42632691e+10,  2.05041915e-01, ...,\n",
       "          -1.50802549e-01, -4.84073340e-01,  6.01199945e-01],\n",
       "         [-2.51132638e+03,  8.48101704e+05, -3.29042798e-01, ...,\n",
       "           2.41223858e-01,  7.72548937e-01, -9.44275399e-01],\n",
       "         [ 3.34148161e+03, -1.12845597e+06,  4.01742754e-01, ...,\n",
       "          -2.94808701e-01, -9.44279505e-01,  1.15790249e+00]],\n",
       " \n",
       "        ...,\n",
       " \n",
       "        [[-2.98320970e+05,  2.88825210e+07,  1.55958533e+05, ...,\n",
       "          -1.14296573e+05, -8.25083483e+01,  9.48081726e+01],\n",
       "         [ 2.88086897e+07, -2.14737812e+09, -2.27092210e+05, ...,\n",
       "           1.66427508e+05,  1.27317179e+02, -1.52357177e+02],\n",
       "         [ 1.54252061e+05, -1.00464930e+05,  2.62233826e+05, ...,\n",
       "          -1.92182026e+05, -1.38772864e+02,  1.59523250e+02],\n",
       "         ...,\n",
       "         [-1.13045959e+05,  7.36267897e+04, -1.92182026e+05, ...,\n",
       "           1.40843505e+05,  1.01701720e+02, -1.16908898e+02],\n",
       "         [-8.16066479e+01,  6.03141679e+01, -1.38775017e+02, ...,\n",
       "           1.01703298e+02,  3.67489084e-01, -4.49209213e-01],\n",
       "         [ 9.37727317e+01, -7.53369586e+01,  1.59527555e+02, ...,\n",
       "          -1.16912053e+02, -4.49210182e-01,  5.52233837e-01]],\n",
       " \n",
       "        [[ 5.64388718e+17, -4.15360322e+19, -2.58205328e+11, ...,\n",
       "           1.89229663e+11,  5.71909954e+08, -6.92525210e+08],\n",
       "         [-4.15360151e+19,  3.05683158e+21,  1.90025549e+13, ...,\n",
       "          -1.39263085e+13, -4.20895449e+10,  5.09661888e+10],\n",
       "         [ 1.39049432e+11, -1.02332918e+13,  2.32360539e+05, ...,\n",
       "          -1.70288961e+05, -1.66343622e+01,  1.10895871e+01],\n",
       "         ...,\n",
       "         [-1.01904355e+11,  7.49961353e+12, -1.70289014e+05, ...,\n",
       "           1.24798898e+05,  1.21908114e+01, -8.12720760e+00],\n",
       "         [-3.77462629e+08,  2.77792513e+10,  1.51517268e+01, ...,\n",
       "          -1.11042196e+01, -6.91259150e-03,  4.60839433e-03],\n",
       "         [ 4.66877843e+08, -3.43597384e+10, -3.18883499e+01, ...,\n",
       "           2.33699625e+01,  1.45482518e-02, -9.69883456e-03]],\n",
       " \n",
       "        [[ 1.71540522e+06, -1.17152057e+08,  1.86676587e+05, ...,\n",
       "          -1.36808776e+05, -9.86498928e+01,  1.14039921e+02],\n",
       "         [-1.17216164e+08,  8.59229446e+09,  8.19369436e+05, ...,\n",
       "          -6.00488585e+05, -4.16938958e+02,  4.63828918e+02],\n",
       "         [ 1.85184093e+05,  9.28334522e+05,  3.34061409e+05, ...,\n",
       "          -2.44821998e+05, -1.76335831e+02,  2.03657996e+02],\n",
       "         ...,\n",
       "         [-1.35714986e+05, -6.80344824e+05, -2.44821997e+05, ...,\n",
       "           1.79421534e+05,  1.29230340e+02, -1.49253743e+02],\n",
       "         [-9.77782862e+01, -4.80682636e+02, -1.76338363e+02, ...,\n",
       "           1.29232196e+02,  3.82986176e-01, -4.66834740e-01],\n",
       "         [ 1.12936804e+02,  5.44615816e+02,  2.03663808e+02, ...,\n",
       "          -1.49258003e+02, -4.66836265e-01,  5.72567776e-01]]]),\n",
       " array([0.5       , 0.52020202, 0.54040404, 0.56060606, 0.58080808,\n",
       "        0.6010101 , 0.62121212, 0.64141414, 0.66161616, 0.68181818,\n",
       "        0.7020202 , 0.72222222, 0.74242424, 0.76262626, 0.78282828,\n",
       "        0.8030303 , 0.82323232, 0.84343434, 0.86363636, 0.88383838,\n",
       "        0.9040404 , 0.92424242, 0.94444444, 0.96464646, 0.98484848,\n",
       "        1.00505051, 1.02525253, 1.04545455, 1.06565657, 1.08585859,\n",
       "        1.10606061, 1.12626263, 1.14646465, 1.16666667, 1.18686869,\n",
       "        1.20707071, 1.22727273, 1.24747475, 1.26767677, 1.28787879,\n",
       "        1.30808081, 1.32828283, 1.34848485, 1.36868687, 1.38888889,\n",
       "        1.40909091, 1.42929293, 1.44949495, 1.46969697, 1.48989899,\n",
       "        1.51010101, 1.53030303, 1.55050505, 1.57070707, 1.59090909,\n",
       "        1.61111111, 1.63131313, 1.65151515, 1.67171717, 1.69191919,\n",
       "        1.71212121, 1.73232323, 1.75252525, 1.77272727, 1.79292929,\n",
       "        1.81313131, 1.83333333, 1.85353535, 1.87373737, 1.89393939,\n",
       "        1.91414141, 1.93434343, 1.95454545, 1.97474747, 1.99494949,\n",
       "        2.01515152, 2.03535354, 2.05555556, 2.07575758, 2.0959596 ,\n",
       "        2.11616162, 2.13636364, 2.15656566, 2.17676768, 2.1969697 ,\n",
       "        2.21717172, 2.23737374, 2.25757576, 2.27777778, 2.2979798 ,\n",
       "        2.31818182, 2.33838384, 2.35858586, 2.37878788, 2.3989899 ,\n",
       "        2.41919192, 2.43939394, 2.45959596, 2.47979798, 2.5       ]))"
      ]
     },
     "execution_count": 201,
     "metadata": {},
     "output_type": "execute_result"
    }
   ],
   "source": [
    "covMatrix(mydict,p_noise,T=np.linspace(0.5,2.5,100))"
   ]
  },
  {
   "cell_type": "code",
   "execution_count": 211,
   "id": "1bac075f-8b2d-4ee1-a347-231ebbd80ed1",
   "metadata": {},
   "outputs": [],
   "source": [
    "def plotCov(tdict,ndict,covMatrix,*args):\n",
    "    \n",
    "    matrix,x_vals = covMatrix\n",
    "\n",
    "    search_key1 = args[0] #there should only be two search keys\n",
    "    search_key2 = args[1]\n",
    "    \n",
    "    temp = list(tdict.keys())\n",
    "    key_idx1 = temp.index(search_key1)\n",
    "    key_idx2 = temp.index(search_key2)\n",
    "    y_vals = []\n",
    "    for i in range(matrix.shape[0]):\n",
    "        y_vals.append(matrix[i][key_idx1][key_idx2])\n",
    "    plt.plot(x_vals,y_vals,'.')\n",
    "    return None"
   ]
  },
  {
   "cell_type": "code",
   "execution_count": 216,
   "id": "1e9dbf86-78f9-4451-9bd8-8d0b8bbe436f",
   "metadata": {},
   "outputs": [
    {
     "data": {
      "image/png": "[encoded data removed]",
      "text/plain": [
       "<Figure size 640x480 with 1 Axes>"
      ]
     },
     "metadata": {},
     "output_type": "display_data"
    }
   ],
   "source": [
    "plotCov(mydict,p_noise,covMatrix(mydict,p_noise,T=np.linspace(2,4,100)),'r1','r1')"
   ]
  },
  {
   "cell_type": "code",
   "execution_count": null,
   "id": "54546cf9-f78d-4d11-8722-a2cdf8195758",
   "metadata": {},
   "outputs": [],
   "source": []
  },
  {
   "cell_type": "code",
   "execution_count": null,
   "id": "f40aa6a2-86a2-4ff2-a957-f746ab07fc53",
   "metadata": {},
   "outputs": [],
   "source": []
  }
 ],
 "metadata": {
  "kernelspec": {
   "display_name": "Python 3 (ipykernel)",
   "language": "python",
   "name": "python3"
  },
  "language_info": {
   "codemirror_mode": {
    "name": "ipython",
    "version": 3
   },
   "file_extension": ".py",
   "mimetype": "text/x-python",
   "name": "python",
   "nbconvert_exporter": "python",
   "pygments_lexer": "ipython3",
   "version": "3.10.6"
  }
 },
 "nbformat": 4,
 "nbformat_minor": 5
}
