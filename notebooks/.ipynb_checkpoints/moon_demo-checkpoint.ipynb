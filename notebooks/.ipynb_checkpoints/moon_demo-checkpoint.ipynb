{
 "cells": [
  {
   "cell_type": "code",
   "execution_count": 1,
   "metadata": {},
   "outputs": [],
   "source": [
    "import numpy as np\n",
    "import matplotlib.pyplot as plt\n",
    "import gefera as gf"
   ]
  },
  {
   "cell_type": "code",
   "execution_count": 2,
   "metadata": {},
   "outputs": [],
   "source": [
    "t = np.linspace(-0.5, 0.2, 10000)\n",
    "\n",
    "ap = 1.0\n",
    "tp = -91.25\n",
    "ep = 0.0\n",
    "pp = 365\n",
    "wp = 0.1 * np.pi / 180\n",
    "ip = 89.8 * np.pi / 180\n",
    "\n",
    "am = 0.02\n",
    "tm = -4.2\n",
    "em = 0.0\n",
    "pm = 8\n",
    "om = 90 * np.pi / 180\n",
    "wm = -90 * np.pi / 180\n",
    "im = 90.0 * np.pi / 180\n",
    "mm = 0.01\n",
    "\n",
    "u1 = 0.5\n",
    "u2 = 0.3\n",
    "rp = 0.1\n",
    "rm = 0.06"
   ]
  },
  {
   "cell_type": "code",
   "execution_count": 4,
   "metadata": {},
   "outputs": [
    {
     "data": {
      "text/plain": [
       "[<matplotlib.lines.Line2D at 0x10e7e9d60>]"
      ]
     },
     "execution_count": 4,
     "metadata": {},
     "output_type": "execute_result"
    },
    {
     "data": {
      "image/png": "[encoded data removed]",
      "text/plain": [
       "<Figure size 432x288 with 1 Axes>"
      ]
     },
     "metadata": {
      "needs_background": "light"
     },
     "output_type": "display_data"
    }
   ],
   "source": [
    "po = gf.PrimaryOrbit(ap, tp, ep, pp, wp, ip)\n",
    "mo = gf.SatelliteOrbit(am, tm, em, pm, om, wm, im, mm)\n",
    "sys = gf.HierarchicalSystem(po, mo)\n",
    "\n",
    "flux, grad_flux = sys.lightcurve(t, u1, u2, rp, rm, grad=True)\n",
    "\n",
    "plt.plot(t, flux, color='k', linewidth=2)"
   ]
  },
  {
   "cell_type": "code",
   "execution_count": null,
   "metadata": {},
   "outputs": [],
   "source": [
    "fig, axs = plt.subplots(6, 3, figsize=(15, 15))\n",
    "axs = axs.flatten()\n",
    "\n",
    "names = [\n",
    "    r'$a_p$', r'$t_p$', r'$e_p$', r'$P_p$', r'$\\omega_p$', \n",
    "    r'$i_p$', r'$a_m$', r'$t_m$', r'$e_m$', r'$P_m$', \n",
    "    r'$\\Omega_m$', r'$\\omega_m$', r'$i_m$', r'$M_m$', \n",
    "    r'$r_p$', r'$r_m$', r'$c_1$', r'$c_2$'\n",
    "]\n",
    "\n",
    "for i, (name, g) in enumerate(list(grad_flux.items())):\n",
    "        \n",
    "    axs[i].plot(t, g, color='k', linewidth=2)\n",
    "    axs[i].annotate(names[i], xy=(0.85, 0.75), xycoords='axes fraction', fontsize=20, bbox={'facecolor': 'w'})"
   ]
  },
  {
   "cell_type": "code",
   "execution_count": null,
   "metadata": {},
   "outputs": [],
   "source": [
    "times = t[::1000]\n",
    "fig, axs = plt.subplots(1, len(times), figsize=(30, 3))\n",
    "gf.snapshots(sys, axs, times, rp, rm, ld_params=[u1, u2])"
   ]
  },
  {
   "cell_type": "code",
   "execution_count": null,
   "metadata": {},
   "outputs": [],
   "source": []
  }
 ],
 "metadata": {
  "kernelspec": {
   "display_name": "Python 3",
   "language": "python",
   "name": "python3"
  },
  "language_info": {
   "codemirror_mode": {
    "name": "ipython",
    "version": 3
   },
   "file_extension": ".py",
   "mimetype": "text/x-python",
   "name": "python",
   "nbconvert_exporter": "python",
   "pygments_lexer": "ipython3",
   "version": "3.8.6"
  }
 },
 "nbformat": 4,
 "nbformat_minor": 4
}
